{
 "cells": [
  {
   "cell_type": "markdown",
   "id": "9d61e226",
   "metadata": {},
   "source": [
    "## Crowdfunding Analysis - Final Project\n",
    "### Goal: Predict wether a crowdfunding campaign will be successful or fail\n",
    "\n",
    "\n",
    "#### Dataset: https://www.kaggle.com/yashkantharia/kickstarter-campaigns-dataset-20\n"
   ]
  },
  {
   "cell_type": "markdown",
   "id": "dac19afa",
   "metadata": {},
   "source": [
    "### Importing dependecies and data"
   ]
  },
  {
   "cell_type": "code",
   "execution_count": null,
   "id": "42216455",
   "metadata": {},
   "outputs": [],
   "source": [
    "import pandas as pd\n",
    "import numpy as np\n",
    "import matplotlib.pyplot as plt # plotting\n",
    "\n",
    "df = pd.read_csv('data.csv')"
   ]
  },
  {
   "cell_type": "code",
   "execution_count": null,
   "id": "ccb4faf8",
   "metadata": {},
   "outputs": [],
   "source": [
    "# Describing the Data\n",
    "# df.describe()\n",
    "df.info()"
   ]
  },
  {
   "cell_type": "markdown",
   "id": "01fad832",
   "metadata": {},
   "source": [
    "### Data Cleaning\n",
    "\n",
    "* Duplicates\n",
    "* Removing useless columns\n",
    "* Converting variables\n",
    "* Normalizing values"
   ]
  },
  {
   "cell_type": "code",
   "execution_count": null,
   "id": "fb828e88",
   "metadata": {},
   "outputs": [],
   "source": [
    "# creator_id, index, creator_id are unique / serializing values\n",
    "ul_cols = ['id', 'creator_id', 'index']\n",
    "df = df.drop(columns = ul_cols, axis=1)\n",
    "df.info()"
   ]
  },
  {
   "cell_type": "code",
   "execution_count": null,
   "id": "0801a3db",
   "metadata": {},
   "outputs": [],
   "source": [
    "# Removing Duplicates\n",
    "print(\"# of Duplicates: \", df.duplicated().sum())\n",
    "df.drop_duplicates(inplace=True, ignore_index=True)\n",
    "\n",
    "# Length after duplicate removal\n",
    "print(\"Length of dataset after removal of duplicates is \", len(df))"
   ]
  },
  {
   "cell_type": "code",
   "execution_count": null,
   "id": "1a7aeabd",
   "metadata": {},
   "outputs": [],
   "source": [
    "# Converting fields to binary\n",
    "df['status'].describe()"
   ]
  },
  {
   "cell_type": "code",
   "execution_count": null,
   "id": "3d76396b",
   "metadata": {},
   "outputs": [],
   "source": [
    "# Status to binary 0-failed 1-successful\n",
    "status = df['status']\n",
    "new_status = []\n",
    "for s in status:\n",
    "    if s == \"successful\":\n",
    "        new_status.append(1)\n",
    "    else:\n",
    "        new_status.append(0)\n",
    "df['status'] = new_status\n",
    "df['status'].describe()"
   ]
  },
  {
   "cell_type": "code",
   "execution_count": null,
   "id": "c704a2bd",
   "metadata": {},
   "outputs": [],
   "source": [
    "df.info()"
   ]
  },
  {
   "cell_type": "markdown",
   "id": "ba387563",
   "metadata": {},
   "source": [
    "### Which features could affect the outcome?\n",
    "* Title length (h0 - the shorter the better)\n",
    "* Launch season (h0 - specific seasons may affect success rate)\n",
    "* Launch year (h0 - crowdfunding grew in populatiry as the years progress, google trends show decrease since 2013 however traffic to crowdfunding websites grew\n",
    "  * https://trends.google.com/trends/explore?date=today%205-y&q=indigogo\n",
    "  * https://trends.google.com/trends/explore?date=today%205-y&q=kickstarter\n",
    "  * https://www.similarweb.com/website/kickstarter.com/#overview\n",
    "  * https://www.similarweb.com/website/indiegogo.com/#overview\n",
    "* Length (Deadline (-) Launched_at = campaign length OR duration, is there an optimal number?)\n",
    "* Categories (h0 - some are more successful then others)\n",
    "* Goal (May be addressed as interval scale)\n",
    "* City (Some cities might be more successful then others, if so, why?)"
   ]
  },
  {
   "cell_type": "markdown",
   "id": "48a65692",
   "metadata": {},
   "source": [
    "#### Title Length"
   ]
  },
  {
   "cell_type": "code",
   "execution_count": null,
   "id": "74e9ec4c",
   "metadata": {},
   "outputs": [],
   "source": [
    "# Title length\n",
    "titles = df['name']\n",
    "# Put lengths to list\n",
    "title_length = []\n",
    "for title in titles:\n",
    "    title_length.append(len(title))\n",
    "\n",
    "# Push back into the dataFrame\n",
    "df['title_length'] = title_length\n",
    "df.info()"
   ]
  },
  {
   "cell_type": "markdown",
   "id": "1c7847d1",
   "metadata": {},
   "source": [
    "#### Launch year + season\n",
    "* Seasons:\n",
    "  * 1 - Winter\n",
    "  * 2 - Fall\n",
    "  * 3 - Spring\n",
    "  * 4 - Summer"
   ]
  },
  {
   "cell_type": "code",
   "execution_count": null,
   "id": "ef48de2d",
   "metadata": {},
   "outputs": [],
   "source": [
    "# Addressing years launched and seasons \n",
    "# Convert series to dt object using pandas\n",
    "launch = pd.to_datetime(df['launched_at'])\n",
    "# add the year launched to the df\n",
    "df['year_launched'] = launch.dt.year"
   ]
  },
  {
   "cell_type": "code",
   "execution_count": null,
   "id": "5a36ec0a",
   "metadata": {},
   "outputs": [],
   "source": [
    "# Converting months to seasons\n",
    "months = launch.dt.month\n",
    "# Season by month\n",
    "seasons = [1, 1, 2, 2, 2, 3, 3, 3, 4, 4, 4, 1]\n",
    "# to Dictonary\n",
    "month_to_season = dict(zip(range(1,13), seasons))\n",
    "# Mapping\n",
    "seasons = months.map(month_to_season)\n",
    "df['season_launched'] = seasons\n",
    "df.info()"
   ]
  },
  {
   "cell_type": "markdown",
   "id": "206ddf35",
   "metadata": {},
   "source": [
    "### Importing models for the first iteration\n",
    "* Logistic Regrssion\n",
    "* Random Forest\n"
   ]
  },
  {
   "cell_type": "code",
   "execution_count": null,
   "id": "eb166c28",
   "metadata": {},
   "outputs": [],
   "source": [
    "!pip install scikit-learn"
   ]
  },
  {
   "cell_type": "code",
   "execution_count": null,
   "id": "199d7a6f",
   "metadata": {},
   "outputs": [],
   "source": [
    "# General dependencies + Scikit learn RF classifier\n",
    "from numpy import mean\n",
    "from numpy import std\n",
    "from sklearn.datasets import make_classification\n",
    "from sklearn.model_selection import cross_val_score\n",
    "from sklearn.model_selection import RepeatedStratifiedKFold\n",
    "from sklearn.model_selection import RepeatedStratifiedKFold\n",
    "from sklearn.ensemble import RandomForestClassifier"
   ]
  },
  {
   "cell_type": "code",
   "execution_count": null,
   "id": "97f33d74",
   "metadata": {},
   "outputs": [],
   "source": [
    "# Splitting data to train an test datasets\n",
    "part = np.random.rand(len(df)) < 0.8\n",
    "train = df[part]\n",
    "test = df[~part]"
   ]
  },
  {
   "cell_type": "code",
   "execution_count": null,
   "id": "bf688968",
   "metadata": {},
   "outputs": [],
   "source": [
    "df.info()"
   ]
  },
  {
   "cell_type": "code",
   "execution_count": null,
   "id": "45f21db3",
   "metadata": {},
   "outputs": [],
   "source": [
    "# Prep train data\n",
    "# preparing training data\n",
    "cols = ['backers_count','blurb_length','title_length', 'season_launched','year_launched']\n",
    "x_train = train[cols]\n",
    "y = train['status']\n",
    "x_test = test[cols]"
   ]
  },
  {
   "cell_type": "code",
   "execution_count": null,
   "id": "9617b21a",
   "metadata": {},
   "outputs": [],
   "source": [
    "x_train.info()"
   ]
  },
  {
   "cell_type": "code",
   "execution_count": null,
   "id": "b7d43c3d",
   "metadata": {},
   "outputs": [],
   "source": [
    "# Random Forest\n",
    "from sklearn.ensemble import RandomForestRegressor\n",
    "m = RandomForestRegressor(n_estimators=20, random_state=0)"
   ]
  },
  {
   "cell_type": "code",
   "execution_count": null,
   "id": "51b4658d",
   "metadata": {},
   "outputs": [],
   "source": [
    "# Naive Bayes\n",
    "from sklearn.naive_bayes import GaussianNB  \n",
    "m = GaussianNB(priors=None, var_smoothing=1e-09)"
   ]
  },
  {
   "cell_type": "code",
   "execution_count": null,
   "id": "101f80a4",
   "metadata": {},
   "outputs": [],
   "source": [
    "scores = cross_val_score(m, x_train, y, cv = 10)\n",
    "print(\"Accuracy: %0.2f (+/- %0.2f)\" % (scores.mean(), scores.std() * 2))"
   ]
  },
  {
   "cell_type": "code",
   "execution_count": null,
   "id": "48ac71d0",
   "metadata": {},
   "outputs": [],
   "source": []
  }
 ],
 "metadata": {
  "kernelspec": {
   "display_name": "Python 3 (ipykernel)",
   "language": "python",
   "name": "python3"
  },
  "language_info": {
   "codemirror_mode": {
    "name": "ipython",
    "version": 3
   },
   "file_extension": ".py",
   "mimetype": "text/x-python",
   "name": "python",
   "nbconvert_exporter": "python",
   "pygments_lexer": "ipython3",
   "version": "3.9.6"
  }
 },
 "nbformat": 4,
 "nbformat_minor": 5
}

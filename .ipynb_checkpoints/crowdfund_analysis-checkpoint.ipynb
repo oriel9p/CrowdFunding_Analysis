{
 "cells": [
  {
   "cell_type": "markdown",
   "id": "9d61e226",
   "metadata": {},
   "source": [
    "## Crowdfunding Analysis - Final Project\n",
    "\n",
    "#### Dataset: https://www.kaggle.com/yashkantharia/kickstarter-campaigns-dataset-20\n"
   ]
  },
  {
   "cell_type": "markdown",
   "id": "dac19afa",
   "metadata": {},
   "source": [
    "### Importing dependecies and data"
   ]
  },
  {
   "cell_type": "code",
   "execution_count": 1,
   "id": "42216455",
   "metadata": {},
   "outputs": [],
   "source": [
    "import pandas as pd\n",
    "import numpy as np\n",
    "import matplotlib.pyplot as plt # plotting\n",
    "\n",
    "df = pd.read_csv('data.csv')"
   ]
  },
  {
   "cell_type": "code",
   "execution_count": 2,
   "id": "ccb4faf8",
   "metadata": {},
   "outputs": [
    {
     "name": "stdout",
     "output_type": "stream",
     "text": [
      "<class 'pandas.core.frame.DataFrame'>\n",
      "RangeIndex: 217245 entries, 0 to 217244\n",
      "Data columns (total 19 columns):\n",
      " #   Column         Non-Null Count   Dtype  \n",
      "---  ------         --------------   -----  \n",
      " 0   index          217245 non-null  int64  \n",
      " 1   id             217245 non-null  int64  \n",
      " 2   name           217245 non-null  object \n",
      " 3   currency       217245 non-null  object \n",
      " 4   launched_at    217245 non-null  object \n",
      " 5   backers_count  217245 non-null  int64  \n",
      " 6   blurb          217245 non-null  object \n",
      " 7   country        217245 non-null  object \n",
      " 8   deadline       217245 non-null  object \n",
      " 9   slug           217245 non-null  object \n",
      " 10  status         217245 non-null  object \n",
      " 11  usd_pledged    217245 non-null  float64\n",
      " 12  sub_category   217245 non-null  object \n",
      " 13  main_category  217245 non-null  object \n",
      " 14  creator_id     217245 non-null  int64  \n",
      " 15  blurb_length   217245 non-null  int64  \n",
      " 16  goal_usd       217245 non-null  float64\n",
      " 17  city           217245 non-null  object \n",
      " 18  duration       217245 non-null  int64  \n",
      "dtypes: float64(2), int64(6), object(11)\n",
      "memory usage: 31.5+ MB\n"
     ]
    }
   ],
   "source": [
    "# Describing the Data\n",
    "# df.describe()\n",
    "df.info()"
   ]
  },
  {
   "cell_type": "markdown",
   "id": "01fad832",
   "metadata": {},
   "source": [
    "### Data Cleaning\n",
    "\n",
    "* Duplicates\n",
    "* Removing useless columns"
   ]
  },
  {
   "cell_type": "code",
   "execution_count": 3,
   "id": "fb828e88",
   "metadata": {},
   "outputs": [],
   "source": [
    "# creator_id, index, creator_id are unique / serializing values\n",
    "ul_cols = ['id', 'creator_id', 'index']\n",
    "df = df.drop(columns = ul_cols, axis=1)"
   ]
  },
  {
   "cell_type": "code",
   "execution_count": 5,
   "id": "0801a3db",
   "metadata": {},
   "outputs": [
    {
     "name": "stdout",
     "output_type": "stream",
     "text": [
      "duplicates:  19527\n",
      "length of dataset after removal of duplicates is  197718\n"
     ]
    }
   ],
   "source": [
    "# Removing Duplicates\n",
    "print(\"# of Duplicates: \", df.duplicated().sum())\n",
    "df.drop_duplicates(inplace=True, ignore_index=True)\n",
    "\n",
    "# Length after duplicate removal\n",
    "print(\"Length of dataset after removal of duplicates is \", len(df))"
   ]
  },
  {
   "cell_type": "markdown",
   "id": "206ddf35",
   "metadata": {},
   "source": [
    "### Importing models\n",
    "* Logistic Regrssion\n",
    "* Random Forest\n"
   ]
  },
  {
   "cell_type": "code",
   "execution_count": null,
   "id": "89bfc4f4",
   "metadata": {},
   "outputs": [],
   "source": []
  }
 ],
 "metadata": {
  "kernelspec": {
   "display_name": "Python 3 (ipykernel)",
   "language": "python",
   "name": "python3"
  },
  "language_info": {
   "codemirror_mode": {
    "name": "ipython",
    "version": 3
   },
   "file_extension": ".py",
   "mimetype": "text/x-python",
   "name": "python",
   "nbconvert_exporter": "python",
   "pygments_lexer": "ipython3",
   "version": "3.9.6"
  }
 },
 "nbformat": 4,
 "nbformat_minor": 5
}

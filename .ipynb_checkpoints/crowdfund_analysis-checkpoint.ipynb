{
 "cells": [
  {
   "cell_type": "markdown",
   "id": "9d61e226",
   "metadata": {},
   "source": [
    "## Crowdfunding Analysis - Final Project\n",
    "\n",
    "#### Dataset: https://www.kaggle.com/yashkantharia/kickstarter-campaigns-dataset-20\n"
   ]
  },
  {
   "cell_type": "markdown",
   "id": "dac19afa",
   "metadata": {},
   "source": [
    "### Importing dependecies and data"
   ]
  },
  {
   "cell_type": "code",
   "execution_count": 2,
   "id": "42216455",
   "metadata": {},
   "outputs": [],
   "source": [
    "import pandas as pd\n",
    "import numpy as np\n",
    "import matplotlib.pyplot as plt # plotting\n",
    "\n",
    "df = pd.read_csv('data.csv')"
   ]
  },
  {
   "cell_type": "code",
   "execution_count": 3,
   "id": "ccb4faf8",
   "metadata": {},
   "outputs": [
    {
     "name": "stdout",
     "output_type": "stream",
     "text": [
      "<class 'pandas.core.frame.DataFrame'>\n",
      "RangeIndex: 217245 entries, 0 to 217244\n",
      "Data columns (total 19 columns):\n",
      " #   Column         Non-Null Count   Dtype  \n",
      "---  ------         --------------   -----  \n",
      " 0   index          217245 non-null  int64  \n",
      " 1   id             217245 non-null  int64  \n",
      " 2   name           217245 non-null  object \n",
      " 3   currency       217245 non-null  object \n",
      " 4   launched_at    217245 non-null  object \n",
      " 5   backers_count  217245 non-null  int64  \n",
      " 6   blurb          217245 non-null  object \n",
      " 7   country        217245 non-null  object \n",
      " 8   deadline       217245 non-null  object \n",
      " 9   slug           217245 non-null  object \n",
      " 10  status         217245 non-null  object \n",
      " 11  usd_pledged    217245 non-null  float64\n",
      " 12  sub_category   217245 non-null  object \n",
      " 13  main_category  217245 non-null  object \n",
      " 14  creator_id     217245 non-null  int64  \n",
      " 15  blurb_length   217245 non-null  int64  \n",
      " 16  goal_usd       217245 non-null  float64\n",
      " 17  city           217245 non-null  object \n",
      " 18  duration       217245 non-null  int64  \n",
      "dtypes: float64(2), int64(6), object(11)\n",
      "memory usage: 31.5+ MB\n"
     ]
    }
   ],
   "source": [
    "# Describing the Data\n",
    "# df.describe()\n",
    "df.info()"
   ]
  },
  {
   "cell_type": "markdown",
   "id": "01fad832",
   "metadata": {},
   "source": [
    "### Data Cleaning\n",
    "\n",
    "* Duplicates\n",
    "* Removing useless columns\n",
    "* Converting variables\n",
    "* Normalizing values"
   ]
  },
  {
   "cell_type": "code",
   "execution_count": 4,
   "id": "fb828e88",
   "metadata": {},
   "outputs": [],
   "source": [
    "# creator_id, index, creator_id are unique / serializing values\n",
    "ul_cols = ['id', 'creator_id', 'index']\n",
    "df = df.drop(columns = ul_cols, axis=1)\n",
    "df.info()"
   ]
  },
  {
   "cell_type": "code",
   "execution_count": 5,
   "id": "0801a3db",
   "metadata": {},
   "outputs": [
    {
     "name": "stdout",
     "output_type": "stream",
     "text": [
      "# of Duplicates:  19527\n",
      "Length of dataset after removal of duplicates is  197718\n"
     ]
    }
   ],
   "source": [
    "# Removing Duplicates\n",
    "print(\"# of Duplicates: \", df.duplicated().sum())\n",
    "df.drop_duplicates(inplace=True, ignore_index=True)\n",
    "\n",
    "# Length after duplicate removal\n",
    "print(\"Length of dataset after removal of duplicates is \", len(df))"
   ]
  },
  {
   "cell_type": "code",
   "execution_count": 6,
   "id": "1a7aeabd",
   "metadata": {},
   "outputs": [
    {
     "data": {
      "text/plain": [
       "count         197718\n",
       "unique             4\n",
       "top       successful\n",
       "freq          109205\n",
       "Name: status, dtype: object"
      ]
     },
     "execution_count": 6,
     "metadata": {},
     "output_type": "execute_result"
    }
   ],
   "source": [
    "# Converting fields to binary\n",
    "df['status'].describe()"
   ]
  },
  {
   "cell_type": "code",
   "execution_count": 9,
   "id": "3d76396b",
   "metadata": {},
   "outputs": [
    {
     "data": {
      "text/plain": [
       "count    197718.000000\n",
       "mean          0.552327\n",
       "std           0.497256\n",
       "min           0.000000\n",
       "25%           0.000000\n",
       "50%           1.000000\n",
       "75%           1.000000\n",
       "max           1.000000\n",
       "Name: status, dtype: float64"
      ]
     },
     "execution_count": 9,
     "metadata": {},
     "output_type": "execute_result"
    }
   ],
   "source": [
    "# Status to binary 0-failed 1-successful\n",
    "status = df['status']\n",
    "new_status = []\n",
    "for s in status:\n",
    "    if s == \"successful\":\n",
    "        new_status.append(1)\n",
    "    else:\n",
    "        new_status.append(0)\n",
    "df['status'] = new_status\n",
    "df['status'].describe()"
   ]
  },
  {
   "cell_type": "markdown",
   "id": "206ddf35",
   "metadata": {},
   "source": [
    "### Importing models for the first iteration\n",
    "* Logistic Regrssion\n",
    "* Random Forest\n"
   ]
  },
  {
   "cell_type": "code",
   "execution_count": 15,
   "id": "eb166c28",
   "metadata": {},
   "outputs": [
    {
     "name": "stdout",
     "output_type": "stream",
     "text": [
      "Collecting scikit-learn\n",
      "  Downloading scikit_learn-1.0.1-cp39-cp39-win_amd64.whl (7.2 MB)\n",
      "Collecting joblib>=0.11\n"
     ]
    },
    {
     "name": "stderr",
     "output_type": "stream",
     "text": [
      "WARNING: You are using pip version 21.1.3; however, version 21.3.1 is available."
     ]
    },
    {
     "name": "stdout",
     "output_type": "stream",
     "text": [
      "  Downloading joblib-1.1.0-py2.py3-none-any.whl (306 kB)\n",
      "Requirement already satisfied: scipy>=1.1.0 in c:\\users\\oriel\\appdata\\local\\programs\\python\\python39\\lib\\site-packages (from scikit-learn) (1.7.1)\n",
      "Requirement already satisfied: numpy>=1.14.6 in c:\\users\\oriel\\appdata\\local\\programs\\python\\python39\\lib\\site-packages (from scikit-learn) (1.21.2)\n",
      "Collecting threadpoolctl>=2.0.0\n",
      "  Downloading threadpoolctl-3.0.0-py3-none-any.whl (14 kB)\n",
      "Installing collected packages: threadpoolctl, joblib, scikit-learn\n",
      "Successfully installed joblib-1.1.0 scikit-learn-1.0.1 threadpoolctl-3.0.0\n"
     ]
    },
    {
     "name": "stderr",
     "output_type": "stream",
     "text": [
      "\n",
      "You should consider upgrading via the 'c:\\users\\oriel\\appdata\\local\\programs\\python\\python39\\python.exe -m pip install --upgrade pip' command.\n"
     ]
    }
   ],
   "source": [
    "!pip install scikit-learn"
   ]
  },
  {
   "cell_type": "code",
   "execution_count": 16,
   "id": "199d7a6f",
   "metadata": {},
   "outputs": [],
   "source": [
    "# General dependencies + Scikit learn RF classifier\n",
    "from numpy import mean\n",
    "from numpy import std\n",
    "from sklearn.datasets import make_classification\n",
    "from sklearn.model_selection import cross_val_score\n",
    "from sklearn.model_selection import RepeatedStratifiedKFold\n",
    "from sklearn.model_selection import RepeatedStratifiedKFold\n",
    "from sklearn.ensemble import RandomForestClassifier"
   ]
  },
  {
   "cell_type": "code",
   "execution_count": 18,
   "id": "97f33d74",
   "metadata": {},
   "outputs": [
    {
     "name": "stdout",
     "output_type": "stream",
     "text": [
      "<class 'pandas.core.frame.DataFrame'>\n",
      "Int64Index: 39357 entries, 2 to 197696\n",
      "Data columns (total 16 columns):\n",
      " #   Column         Non-Null Count  Dtype  \n",
      "---  ------         --------------  -----  \n",
      " 0   name           39357 non-null  object \n",
      " 1   currency       39357 non-null  object \n",
      " 2   launched_at    39357 non-null  object \n",
      " 3   backers_count  39357 non-null  int64  \n",
      " 4   blurb          39357 non-null  object \n",
      " 5   country        39357 non-null  object \n",
      " 6   deadline       39357 non-null  object \n",
      " 7   slug           39357 non-null  object \n",
      " 8   status         39357 non-null  int64  \n",
      " 9   usd_pledged    39357 non-null  float64\n",
      " 10  sub_category   39357 non-null  object \n",
      " 11  main_category  39357 non-null  object \n",
      " 12  blurb_length   39357 non-null  int64  \n",
      " 13  goal_usd       39357 non-null  float64\n",
      " 14  city           39357 non-null  object \n",
      " 15  duration       39357 non-null  int64  \n",
      "dtypes: float64(2), int64(4), object(10)\n",
      "memory usage: 5.1+ MB\n"
     ]
    }
   ],
   "source": [
    "# Splitting data to train an test datasets\n",
    "part = np.random.rand(len(df)) < 0.8\n",
    "train = df[part]\n",
    "test = df[~part]"
   ]
  },
  {
   "cell_type": "code",
   "execution_count": null,
   "id": "51b4658d",
   "metadata": {},
   "outputs": [],
   "source": []
  }
 ],
 "metadata": {
  "kernelspec": {
   "display_name": "Python 3 (ipykernel)",
   "language": "python",
   "name": "python3"
  },
  "language_info": {
   "codemirror_mode": {
    "name": "ipython",
    "version": 3
   },
   "file_extension": ".py",
   "mimetype": "text/x-python",
   "name": "python",
   "nbconvert_exporter": "python",
   "pygments_lexer": "ipython3",
   "version": "3.9.6"
  }
 },
 "nbformat": 4,
 "nbformat_minor": 5
}
